{
 "cells": [
  {
   "cell_type": "code",
   "execution_count": 1,
   "metadata": {},
   "outputs": [],
   "source": [
    "import torch"
   ]
  },
  {
   "cell_type": "code",
   "execution_count": 2,
   "metadata": {},
   "outputs": [
    {
     "name": "stdout",
     "output_type": "stream",
     "text": [
      "1.7.1\n"
     ]
    }
   ],
   "source": [
    "print(torch.__version__)"
   ]
  },
  {
   "cell_type": "code",
   "execution_count": 3,
   "metadata": {},
   "outputs": [
    {
     "name": "stdout",
     "output_type": "stream",
     "text": [
      "Average network found !\n"
     ]
    },
    {
     "name": "stderr",
     "output_type": "stream",
     "text": [
      "Using cache found in /Users/mbp/.cache/torch/hub/facebookresearch_pytorch_GAN_zoo_hub\n"
     ]
    }
   ],
   "source": [
    "model = torch.hub.load('facebookresearch/pytorch_GAN_zoo:hub', 'DCGAN',\n",
    "                       pretrained=True, useGPU=False)"
   ]
  },
  {
   "cell_type": "code",
   "execution_count": 4,
   "metadata": {},
   "outputs": [
    {
     "name": "stdout",
     "output_type": "stream",
     "text": [
      "['DCGAN', 'PGAN']\n"
     ]
    },
    {
     "name": "stderr",
     "output_type": "stream",
     "text": [
      "Using cache found in /Users/mbp/.cache/torch/hub/facebookresearch_pytorch_GAN_zoo_hub\n"
     ]
    }
   ],
   "source": [
    "print(torch.hub.list('facebookresearch/pytorch_GAN_zoo:hub'))"
   ]
  },
  {
   "cell_type": "code",
   "execution_count": 5,
   "metadata": {},
   "outputs": [
    {
     "name": "stdout",
     "output_type": "stream",
     "text": [
      "\n",
      "    DCGAN basic model\n",
      "    pretrained (bool): load a pretrained model ? In this case load a model\n",
      "    trained on fashionGen cloth\n",
      "    \n"
     ]
    },
    {
     "name": "stderr",
     "output_type": "stream",
     "text": [
      "Using cache found in /Users/mbp/.cache/torch/hub/facebookresearch_pytorch_GAN_zoo_hub\n"
     ]
    }
   ],
   "source": [
    "print(torch.hub.help('facebookresearch/pytorch_GAN_zoo:hub', 'DCGAN'))"
   ]
  }
 ],
 "metadata": {
  "kernelspec": {
   "display_name": "Python 3",
   "language": "python",
   "name": "python3"
  },
  "language_info": {
   "codemirror_mode": {
    "name": "ipython",
    "version": 3
   },
   "file_extension": ".py",
   "mimetype": "text/x-python",
   "name": "python",
   "nbconvert_exporter": "python",
   "pygments_lexer": "ipython3",
   "version": "3.9.1"
  }
 },
 "nbformat": 4,
 "nbformat_minor": 4
}
